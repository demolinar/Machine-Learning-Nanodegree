{
  "nbformat": 4,
  "nbformat_minor": 0,
  "metadata": {
    "colab": {
      "name": "Polynomial_Regression_scikit.ipynb",
      "provenance": []
    },
    "kernelspec": {
      "name": "python3",
      "display_name": "Python 3"
    },
    "language_info": {
      "name": "python"
    }
  },
  "cells": [
    {
      "cell_type": "markdown",
      "source": [
        "##Polynomial Regression"
      ],
      "metadata": {
        "id": "IYQDuHqgETG9"
      }
    },
    {
      "cell_type": "code",
      "execution_count": null,
      "metadata": {
        "colab": {
          "base_uri": "https://localhost:8080/",
          "height": 265
        },
        "id": "AZEdZ2dlDwde",
        "outputId": "1a6fd058-e6e9-448c-f543-8a4d4f635a7c"
      },
      "outputs": [
        {
          "output_type": "display_data",
          "data": {
            "image/png": "[encoded data removed]",
            "text/plain": [
              "<Figure size 432x288 with 1 Axes>"
            ]
          },
          "metadata": {
            "needs_background": "light"
          }
        }
      ],
      "source": [
        "import numpy as np\n",
        "import pandas as pd\n",
        "\n",
        "from sklearn.linear_model import LinearRegression\n",
        "from sklearn.preprocessing import PolynomialFeatures\n",
        "from sklearn.pipeline import make_pipeline\n",
        "\n",
        "import matplotlib as mpl\n",
        "import matplotlib.pyplot as plt\n",
        "\n",
        "\n",
        "# Assign the data to predictor and outcome variables\n",
        "# TODO: Load the data\n",
        "train_datapr = pd.read_csv('datapr.csv')\n",
        "train_datapr = train_datapr.sort_values(by=['Var_X']) # sort values for plor regression curve\n",
        "\n",
        "X = train_datapr['Var_X'].values.reshape(-1, 1)\n",
        "y = train_datapr['Var_Y'].values\n",
        "\n",
        "# Create polynomial features\n",
        "# TODO: Create a PolynomialFeatures object, then fit and transform the\n",
        "# predictor feature\n",
        "poly_feat = PolynomialFeatures(degree = 4)\n",
        "X_poly = poly_feat.fit_transform(X)\n",
        "\n",
        "# Make and fit the polynomial regression model\n",
        "# TODO: Create a LinearRegression object and fit it to the polynomial predictor\n",
        "# features\n",
        "poly_model = LinearRegression(fit_intercept = False).fit(X_poly, y)\n",
        "\n",
        "if __name__ == \"__main__\":\n",
        "    # plot the results\n",
        "    plt.figure()\n",
        "    plt.scatter(X, y)\n",
        "    \n",
        "    # plot the regression curve\n",
        "    polyreg=make_pipeline(PolynomialFeatures(4),LinearRegression())\n",
        "    polyreg.fit(X,y)\n",
        "    plt.plot(X,polyreg.predict(X),color=\"black\")\n",
        "\n",
        "    # example of prediction in -2 and 3\n",
        "    plt.scatter([-2], polyreg.predict([[-2]]), color='g',zorder = 3)\n",
        "    plt.scatter([3], polyreg.predict([[3]]), color='g',zorder = 3)\n",
        "    plt.show()"
      ]
    }
  ]
}